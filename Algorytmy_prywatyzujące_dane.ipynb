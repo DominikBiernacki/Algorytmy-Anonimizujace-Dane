{
  "nbformat": 4,
  "nbformat_minor": 0,
  "metadata": {
    "colab": {
      "provenance": []
    },
    "kernelspec": {
      "name": "python3",
      "display_name": "Python 3"
    },
    "language_info": {
      "name": "python"
    }
  },
  "cells": [
    {
      "cell_type": "code",
      "execution_count": 31,
      "metadata": {
        "id": "0LxbC4OlRZH9"
      },
      "outputs": [],
      "source": [
        "import warnings\n",
        "warnings.filterwarnings('ignore')\n",
        "\n",
        "import math\n",
        "import random\n",
        "import pandas as pd\n",
        "import matplotlib.pyplot as plt\n",
        "import numpy as np\n",
        "\n",
        "from ucimlrepo import fetch_ucirepo\n",
        "from copy import deepcopy\n",
        "from scipy.stats import laplace\n",
        "from sklearn.model_selection import train_test_split\n",
        "from sklearn.metrics.pairwise import euclidean_distances\n",
        "from sklearn.metrics import classification_report\n",
        "from collections import Counter"
      ]
    },
    {
      "cell_type": "code",
      "source": [
        "!pip install ucimlrepo"
      ],
      "metadata": {
        "colab": {
          "base_uri": "https://localhost:8080/"
        },
        "collapsed": true,
        "id": "xBuGGuJfRvhN",
        "outputId": "0014a878-8737-4219-9b90-a54f2bc5fdec"
      },
      "execution_count": 2,
      "outputs": [
        {
          "output_type": "stream",
          "name": "stdout",
          "text": [
            "Collecting ucimlrepo\n",
            "  Downloading ucimlrepo-0.0.7-py3-none-any.whl.metadata (5.5 kB)\n",
            "Requirement already satisfied: pandas>=1.0.0 in /usr/local/lib/python3.11/dist-packages (from ucimlrepo) (2.2.2)\n",
            "Requirement already satisfied: certifi>=2020.12.5 in /usr/local/lib/python3.11/dist-packages (from ucimlrepo) (2025.4.26)\n",
            "Requirement already satisfied: numpy>=1.23.2 in /usr/local/lib/python3.11/dist-packages (from pandas>=1.0.0->ucimlrepo) (2.0.2)\n",
            "Requirement already satisfied: python-dateutil>=2.8.2 in /usr/local/lib/python3.11/dist-packages (from pandas>=1.0.0->ucimlrepo) (2.9.0.post0)\n",
            "Requirement already satisfied: pytz>=2020.1 in /usr/local/lib/python3.11/dist-packages (from pandas>=1.0.0->ucimlrepo) (2025.2)\n",
            "Requirement already satisfied: tzdata>=2022.7 in /usr/local/lib/python3.11/dist-packages (from pandas>=1.0.0->ucimlrepo) (2025.2)\n",
            "Requirement already satisfied: six>=1.5 in /usr/local/lib/python3.11/dist-packages (from python-dateutil>=2.8.2->pandas>=1.0.0->ucimlrepo) (1.17.0)\n",
            "Downloading ucimlrepo-0.0.7-py3-none-any.whl (8.0 kB)\n",
            "Installing collected packages: ucimlrepo\n",
            "Successfully installed ucimlrepo-0.0.7\n"
          ]
        }
      ]
    },
    {
      "cell_type": "markdown",
      "source": [
        "## Przygotowanie danych"
      ],
      "metadata": {
        "id": "twNAkyAXcBw8"
      }
    },
    {
      "cell_type": "code",
      "source": [
        "# Pobieranie danych\n",
        "adult = fetch_ucirepo(id=2)\n",
        "X = adult.data.features\n",
        "y = adult.data.targets"
      ],
      "metadata": {
        "id": "ByI9HC4XR08a"
      },
      "execution_count": 32,
      "outputs": []
    },
    {
      "cell_type": "code",
      "source": [
        "# Przygotowanie danych - wybranie interesujących kolumn\n",
        "df = pd.concat([X, y], axis=1)\n",
        "selected_columns = ['age', 'education-num', 'hours-per-week', 'income']\n",
        "df = df[selected_columns]\n",
        "df[\"income\"] = df[\"income\"].str.strip().str.replace('.', '', regex=False)\n",
        "\n",
        "# Podział na zbiory treningowy i testowy\n",
        "train_df, test_df = train_test_split(df, test_size=0.25, random_state=42, stratify=df['income'])\n",
        "train_df = train_df.reset_index(drop=True)\n",
        "test_df = test_df.reset_index(drop=True)\n",
        "\n",
        "train_df.head(15)"
      ],
      "metadata": {
        "colab": {
          "base_uri": "https://localhost:8080/",
          "height": 519
        },
        "id": "9eV1jlVbR4Jo",
        "outputId": "9fa24387-3461-42f0-b54c-33a481e7913d"
      },
      "execution_count": 33,
      "outputs": [
        {
          "output_type": "execute_result",
          "data": {
            "text/plain": [
              "    age  education-num  hours-per-week income\n",
              "0    17              8              30  <=50K\n",
              "1    68              6              20  <=50K\n",
              "2    36              9              40  <=50K\n",
              "3    29             12              40  <=50K\n",
              "4    47             13              40  <=50K\n",
              "5    31             10              40  <=50K\n",
              "6    51              9              40  <=50K\n",
              "7    54              6              40  <=50K\n",
              "8    35              9               5  <=50K\n",
              "9    40             11              40  <=50K\n",
              "10   34              9              40  <=50K\n",
              "11   33             10              58  <=50K\n",
              "12   66              1              40  <=50K\n",
              "13   23              6              60  <=50K\n",
              "14   30              9              40   >50K"
            ],
            "text/html": [
              "\n",
              "  <div id=\"df-6bed9e7e-f7ec-40fd-a42f-392a60c2135c\" class=\"colab-df-container\">\n",
              "    <div>\n",
              "<style scoped>\n",
              "    .dataframe tbody tr th:only-of-type {\n",
              "        vertical-align: middle;\n",
              "    }\n",
              "\n",
              "    .dataframe tbody tr th {\n",
              "        vertical-align: top;\n",
              "    }\n",
              "\n",
              "    .dataframe thead th {\n",
              "        text-align: right;\n",
              "    }\n",
              "</style>\n",
              "<table border=\"1\" class=\"dataframe\">\n",
              "  <thead>\n",
              "    <tr style=\"text-align: right;\">\n",
              "      <th></th>\n",
              "      <th>age</th>\n",
              "      <th>education-num</th>\n",
              "      <th>hours-per-week</th>\n",
              "      <th>income</th>\n",
              "    </tr>\n",
              "  </thead>\n",
              "  <tbody>\n",
              "    <tr>\n",
              "      <th>0</th>\n",
              "      <td>17</td>\n",
              "      <td>8</td>\n",
              "      <td>30</td>\n",
              "      <td>&lt;=50K</td>\n",
              "    </tr>\n",
              "    <tr>\n",
              "      <th>1</th>\n",
              "      <td>68</td>\n",
              "      <td>6</td>\n",
              "      <td>20</td>\n",
              "      <td>&lt;=50K</td>\n",
              "    </tr>\n",
              "    <tr>\n",
              "      <th>2</th>\n",
              "      <td>36</td>\n",
              "      <td>9</td>\n",
              "      <td>40</td>\n",
              "      <td>&lt;=50K</td>\n",
              "    </tr>\n",
              "    <tr>\n",
              "      <th>3</th>\n",
              "      <td>29</td>\n",
              "      <td>12</td>\n",
              "      <td>40</td>\n",
              "      <td>&lt;=50K</td>\n",
              "    </tr>\n",
              "    <tr>\n",
              "      <th>4</th>\n",
              "      <td>47</td>\n",
              "      <td>13</td>\n",
              "      <td>40</td>\n",
              "      <td>&lt;=50K</td>\n",
              "    </tr>\n",
              "    <tr>\n",
              "      <th>5</th>\n",
              "      <td>31</td>\n",
              "      <td>10</td>\n",
              "      <td>40</td>\n",
              "      <td>&lt;=50K</td>\n",
              "    </tr>\n",
              "    <tr>\n",
              "      <th>6</th>\n",
              "      <td>51</td>\n",
              "      <td>9</td>\n",
              "      <td>40</td>\n",
              "      <td>&lt;=50K</td>\n",
              "    </tr>\n",
              "    <tr>\n",
              "      <th>7</th>\n",
              "      <td>54</td>\n",
              "      <td>6</td>\n",
              "      <td>40</td>\n",
              "      <td>&lt;=50K</td>\n",
              "    </tr>\n",
              "    <tr>\n",
              "      <th>8</th>\n",
              "      <td>35</td>\n",
              "      <td>9</td>\n",
              "      <td>5</td>\n",
              "      <td>&lt;=50K</td>\n",
              "    </tr>\n",
              "    <tr>\n",
              "      <th>9</th>\n",
              "      <td>40</td>\n",
              "      <td>11</td>\n",
              "      <td>40</td>\n",
              "      <td>&lt;=50K</td>\n",
              "    </tr>\n",
              "    <tr>\n",
              "      <th>10</th>\n",
              "      <td>34</td>\n",
              "      <td>9</td>\n",
              "      <td>40</td>\n",
              "      <td>&lt;=50K</td>\n",
              "    </tr>\n",
              "    <tr>\n",
              "      <th>11</th>\n",
              "      <td>33</td>\n",
              "      <td>10</td>\n",
              "      <td>58</td>\n",
              "      <td>&lt;=50K</td>\n",
              "    </tr>\n",
              "    <tr>\n",
              "      <th>12</th>\n",
              "      <td>66</td>\n",
              "      <td>1</td>\n",
              "      <td>40</td>\n",
              "      <td>&lt;=50K</td>\n",
              "    </tr>\n",
              "    <tr>\n",
              "      <th>13</th>\n",
              "      <td>23</td>\n",
              "      <td>6</td>\n",
              "      <td>60</td>\n",
              "      <td>&lt;=50K</td>\n",
              "    </tr>\n",
              "    <tr>\n",
              "      <th>14</th>\n",
              "      <td>30</td>\n",
              "      <td>9</td>\n",
              "      <td>40</td>\n",
              "      <td>&gt;50K</td>\n",
              "    </tr>\n",
              "  </tbody>\n",
              "</table>\n",
              "</div>\n",
              "    <div class=\"colab-df-buttons\">\n",
              "\n",
              "  <div class=\"colab-df-container\">\n",
              "    <button class=\"colab-df-convert\" onclick=\"convertToInteractive('df-6bed9e7e-f7ec-40fd-a42f-392a60c2135c')\"\n",
              "            title=\"Convert this dataframe to an interactive table.\"\n",
              "            style=\"display:none;\">\n",
              "\n",
              "  <svg xmlns=\"http://www.w3.org/2000/svg\" height=\"24px\" viewBox=\"0 -960 960 960\">\n",
              "    <path d=\"M120-120v-720h720v720H120Zm60-500h600v-160H180v160Zm220 220h160v-160H400v160Zm0 220h160v-160H400v160ZM180-400h160v-160H180v160Zm440 0h160v-160H620v160ZM180-180h160v-160H180v160Zm440 0h160v-160H620v160Z\"/>\n",
              "  </svg>\n",
              "    </button>\n",
              "\n",
              "  <style>\n",
              "    .colab-df-container {\n",
              "      display:flex;\n",
              "      gap: 12px;\n",
              "    }\n",
              "\n",
              "    .colab-df-convert {\n",
              "      background-color: #E8F0FE;\n",
              "      border: none;\n",
              "      border-radius: 50%;\n",
              "      cursor: pointer;\n",
              "      display: none;\n",
              "      fill: #1967D2;\n",
              "      height: 32px;\n",
              "      padding: 0 0 0 0;\n",
              "      width: 32px;\n",
              "    }\n",
              "\n",
              "    .colab-df-convert:hover {\n",
              "      background-color: #E2EBFA;\n",
              "      box-shadow: 0px 1px 2px rgba(60, 64, 67, 0.3), 0px 1px 3px 1px rgba(60, 64, 67, 0.15);\n",
              "      fill: #174EA6;\n",
              "    }\n",
              "\n",
              "    .colab-df-buttons div {\n",
              "      margin-bottom: 4px;\n",
              "    }\n",
              "\n",
              "    [theme=dark] .colab-df-convert {\n",
              "      background-color: #3B4455;\n",
              "      fill: #D2E3FC;\n",
              "    }\n",
              "\n",
              "    [theme=dark] .colab-df-convert:hover {\n",
              "      background-color: #434B5C;\n",
              "      box-shadow: 0px 1px 3px 1px rgba(0, 0, 0, 0.15);\n",
              "      filter: drop-shadow(0px 1px 2px rgba(0, 0, 0, 0.3));\n",
              "      fill: #FFFFFF;\n",
              "    }\n",
              "  </style>\n",
              "\n",
              "    <script>\n",
              "      const buttonEl =\n",
              "        document.querySelector('#df-6bed9e7e-f7ec-40fd-a42f-392a60c2135c button.colab-df-convert');\n",
              "      buttonEl.style.display =\n",
              "        google.colab.kernel.accessAllowed ? 'block' : 'none';\n",
              "\n",
              "      async function convertToInteractive(key) {\n",
              "        const element = document.querySelector('#df-6bed9e7e-f7ec-40fd-a42f-392a60c2135c');\n",
              "        const dataTable =\n",
              "          await google.colab.kernel.invokeFunction('convertToInteractive',\n",
              "                                                    [key], {});\n",
              "        if (!dataTable) return;\n",
              "\n",
              "        const docLinkHtml = 'Like what you see? Visit the ' +\n",
              "          '<a target=\"_blank\" href=https://colab.research.google.com/notebooks/data_table.ipynb>data table notebook</a>'\n",
              "          + ' to learn more about interactive tables.';\n",
              "        element.innerHTML = '';\n",
              "        dataTable['output_type'] = 'display_data';\n",
              "        await google.colab.output.renderOutput(dataTable, element);\n",
              "        const docLink = document.createElement('div');\n",
              "        docLink.innerHTML = docLinkHtml;\n",
              "        element.appendChild(docLink);\n",
              "      }\n",
              "    </script>\n",
              "  </div>\n",
              "\n",
              "\n",
              "    <div id=\"df-8ae70e77-8a3a-4998-9be0-9463481ea8aa\">\n",
              "      <button class=\"colab-df-quickchart\" onclick=\"quickchart('df-8ae70e77-8a3a-4998-9be0-9463481ea8aa')\"\n",
              "                title=\"Suggest charts\"\n",
              "                style=\"display:none;\">\n",
              "\n",
              "<svg xmlns=\"http://www.w3.org/2000/svg\" height=\"24px\"viewBox=\"0 0 24 24\"\n",
              "     width=\"24px\">\n",
              "    <g>\n",
              "        <path d=\"M19 3H5c-1.1 0-2 .9-2 2v14c0 1.1.9 2 2 2h14c1.1 0 2-.9 2-2V5c0-1.1-.9-2-2-2zM9 17H7v-7h2v7zm4 0h-2V7h2v10zm4 0h-2v-4h2v4z\"/>\n",
              "    </g>\n",
              "</svg>\n",
              "      </button>\n",
              "\n",
              "<style>\n",
              "  .colab-df-quickchart {\n",
              "      --bg-color: #E8F0FE;\n",
              "      --fill-color: #1967D2;\n",
              "      --hover-bg-color: #E2EBFA;\n",
              "      --hover-fill-color: #174EA6;\n",
              "      --disabled-fill-color: #AAA;\n",
              "      --disabled-bg-color: #DDD;\n",
              "  }\n",
              "\n",
              "  [theme=dark] .colab-df-quickchart {\n",
              "      --bg-color: #3B4455;\n",
              "      --fill-color: #D2E3FC;\n",
              "      --hover-bg-color: #434B5C;\n",
              "      --hover-fill-color: #FFFFFF;\n",
              "      --disabled-bg-color: #3B4455;\n",
              "      --disabled-fill-color: #666;\n",
              "  }\n",
              "\n",
              "  .colab-df-quickchart {\n",
              "    background-color: var(--bg-color);\n",
              "    border: none;\n",
              "    border-radius: 50%;\n",
              "    cursor: pointer;\n",
              "    display: none;\n",
              "    fill: var(--fill-color);\n",
              "    height: 32px;\n",
              "    padding: 0;\n",
              "    width: 32px;\n",
              "  }\n",
              "\n",
              "  .colab-df-quickchart:hover {\n",
              "    background-color: var(--hover-bg-color);\n",
              "    box-shadow: 0 1px 2px rgba(60, 64, 67, 0.3), 0 1px 3px 1px rgba(60, 64, 67, 0.15);\n",
              "    fill: var(--button-hover-fill-color);\n",
              "  }\n",
              "\n",
              "  .colab-df-quickchart-complete:disabled,\n",
              "  .colab-df-quickchart-complete:disabled:hover {\n",
              "    background-color: var(--disabled-bg-color);\n",
              "    fill: var(--disabled-fill-color);\n",
              "    box-shadow: none;\n",
              "  }\n",
              "\n",
              "  .colab-df-spinner {\n",
              "    border: 2px solid var(--fill-color);\n",
              "    border-color: transparent;\n",
              "    border-bottom-color: var(--fill-color);\n",
              "    animation:\n",
              "      spin 1s steps(1) infinite;\n",
              "  }\n",
              "\n",
              "  @keyframes spin {\n",
              "    0% {\n",
              "      border-color: transparent;\n",
              "      border-bottom-color: var(--fill-color);\n",
              "      border-left-color: var(--fill-color);\n",
              "    }\n",
              "    20% {\n",
              "      border-color: transparent;\n",
              "      border-left-color: var(--fill-color);\n",
              "      border-top-color: var(--fill-color);\n",
              "    }\n",
              "    30% {\n",
              "      border-color: transparent;\n",
              "      border-left-color: var(--fill-color);\n",
              "      border-top-color: var(--fill-color);\n",
              "      border-right-color: var(--fill-color);\n",
              "    }\n",
              "    40% {\n",
              "      border-color: transparent;\n",
              "      border-right-color: var(--fill-color);\n",
              "      border-top-color: var(--fill-color);\n",
              "    }\n",
              "    60% {\n",
              "      border-color: transparent;\n",
              "      border-right-color: var(--fill-color);\n",
              "    }\n",
              "    80% {\n",
              "      border-color: transparent;\n",
              "      border-right-color: var(--fill-color);\n",
              "      border-bottom-color: var(--fill-color);\n",
              "    }\n",
              "    90% {\n",
              "      border-color: transparent;\n",
              "      border-bottom-color: var(--fill-color);\n",
              "    }\n",
              "  }\n",
              "</style>\n",
              "\n",
              "      <script>\n",
              "        async function quickchart(key) {\n",
              "          const quickchartButtonEl =\n",
              "            document.querySelector('#' + key + ' button');\n",
              "          quickchartButtonEl.disabled = true;  // To prevent multiple clicks.\n",
              "          quickchartButtonEl.classList.add('colab-df-spinner');\n",
              "          try {\n",
              "            const charts = await google.colab.kernel.invokeFunction(\n",
              "                'suggestCharts', [key], {});\n",
              "          } catch (error) {\n",
              "            console.error('Error during call to suggestCharts:', error);\n",
              "          }\n",
              "          quickchartButtonEl.classList.remove('colab-df-spinner');\n",
              "          quickchartButtonEl.classList.add('colab-df-quickchart-complete');\n",
              "        }\n",
              "        (() => {\n",
              "          let quickchartButtonEl =\n",
              "            document.querySelector('#df-8ae70e77-8a3a-4998-9be0-9463481ea8aa button');\n",
              "          quickchartButtonEl.style.display =\n",
              "            google.colab.kernel.accessAllowed ? 'block' : 'none';\n",
              "        })();\n",
              "      </script>\n",
              "    </div>\n",
              "\n",
              "    </div>\n",
              "  </div>\n"
            ],
            "application/vnd.google.colaboratory.intrinsic+json": {
              "type": "dataframe",
              "variable_name": "train_df",
              "summary": "{\n  \"name\": \"train_df\",\n  \"rows\": 36631,\n  \"fields\": [\n    {\n      \"column\": \"age\",\n      \"properties\": {\n        \"dtype\": \"number\",\n        \"std\": 13,\n        \"min\": 17,\n        \"max\": 90,\n        \"num_unique_values\": 73,\n        \"samples\": [\n          47,\n          76,\n          44\n        ],\n        \"semantic_type\": \"\",\n        \"description\": \"\"\n      }\n    },\n    {\n      \"column\": \"education-num\",\n      \"properties\": {\n        \"dtype\": \"number\",\n        \"std\": 2,\n        \"min\": 1,\n        \"max\": 16,\n        \"num_unique_values\": 16,\n        \"samples\": [\n          8,\n          6,\n          10\n        ],\n        \"semantic_type\": \"\",\n        \"description\": \"\"\n      }\n    },\n    {\n      \"column\": \"hours-per-week\",\n      \"properties\": {\n        \"dtype\": \"number\",\n        \"std\": 12,\n        \"min\": 1,\n        \"max\": 99,\n        \"num_unique_values\": 95,\n        \"samples\": [\n          66,\n          55,\n          7\n        ],\n        \"semantic_type\": \"\",\n        \"description\": \"\"\n      }\n    },\n    {\n      \"column\": \"income\",\n      \"properties\": {\n        \"dtype\": \"category\",\n        \"num_unique_values\": 2,\n        \"samples\": [\n          \">50K\",\n          \"<=50K\"\n        ],\n        \"semantic_type\": \"\",\n        \"description\": \"\"\n      }\n    }\n  ]\n}"
            }
          },
          "metadata": {},
          "execution_count": 33
        }
      ]
    },
    {
      "cell_type": "code",
      "source": [
        "# Liczność klas w zbiorze treningowym\n",
        "print(\"Train set class distribution:\")\n",
        "print(train_df[\"income\"].value_counts())\n",
        "\n",
        "# Liczność klas w zbiorze testowym\n",
        "print(\"\\nTest set class distribution:\")\n",
        "print(test_df[\"income\"].value_counts())"
      ],
      "metadata": {
        "colab": {
          "base_uri": "https://localhost:8080/"
        },
        "id": "NPYq0PDnR6G3",
        "outputId": "e42168f1-0111-46ed-874b-286ca938ca82"
      },
      "execution_count": 34,
      "outputs": [
        {
          "output_type": "stream",
          "name": "stdout",
          "text": [
            "Train set class distribution:\n",
            "income\n",
            "<=50K    27866\n",
            ">50K      8765\n",
            "Name: count, dtype: int64\n",
            "\n",
            "Test set class distribution:\n",
            "income\n",
            "<=50K    9289\n",
            ">50K     2922\n",
            "Name: count, dtype: int64\n"
          ]
        }
      ]
    },
    {
      "cell_type": "code",
      "source": [
        "# Zapisanie tych liczności jako stałe na potem\n",
        "len1 = 8765\n",
        "len2 = 27866"
      ],
      "metadata": {
        "id": "Dvub1IXuR7t2"
      },
      "execution_count": 35,
      "outputs": []
    },
    {
      "cell_type": "code",
      "source": [
        "# Sprawdzenie zakresu każdej z kolumn\n",
        "summary = pd.DataFrame({\n",
        "    'min': train_df.min(numeric_only=True),\n",
        "    'max': train_df.max(numeric_only=True)\n",
        "})\n",
        "print(summary)"
      ],
      "metadata": {
        "colab": {
          "base_uri": "https://localhost:8080/"
        },
        "id": "TuRiHmGRR9Cy",
        "outputId": "f24a4f01-4bdc-41e0-a9ee-0f6cb922a530"
      },
      "execution_count": 36,
      "outputs": [
        {
          "output_type": "stream",
          "name": "stdout",
          "text": [
            "                min  max\n",
            "age              17   90\n",
            "education-num     1   16\n",
            "hours-per-week    1   99\n"
          ]
        }
      ]
    },
    {
      "cell_type": "code",
      "source": [
        "# Ustalenie epsilona - poziomu prywatności\n",
        "epsilon = 0.1\n",
        "\n",
        "# Ustalenie m - rozmiaru bazy wyjściowej\n",
        "m1 = 9000\n",
        "m2 = 27000"
      ],
      "metadata": {
        "id": "cWvddJJVR-Nm"
      },
      "execution_count": 37,
      "outputs": []
    },
    {
      "cell_type": "code",
      "source": [
        "# Stworzenie przestrzeni wyników (osobnej dla każdej klasy docelowej)\n",
        "space = []\n",
        "space2 = []\n",
        "for i in range(17, 91):\n",
        "    plane = []\n",
        "    plane2 = []\n",
        "    for j in range(1, 17):\n",
        "        line = []\n",
        "        line2 = []\n",
        "        for k in range(1, 100):\n",
        "            line.append(0)\n",
        "            line2.append(0)\n",
        "        plane.append(line)\n",
        "        plane2.append(line2)\n",
        "    space.append(plane)\n",
        "    space2.append(plane2)\n",
        "\n",
        "for row in train_df.itertuples():\n",
        "    if row[4] == \">50K\":\n",
        "        space[row[1] - 17][row[2] - 1][row[3] - 1] += 1/len1\n",
        "    else:\n",
        "        space2[row[1] - 17][row[2] - 1][row[3] - 1] += 1/len2"
      ],
      "metadata": {
        "id": "kAzOnsqVR_Ph"
      },
      "execution_count": 55,
      "outputs": []
    },
    {
      "cell_type": "markdown",
      "source": [
        "## Mechanizm Laplace'a"
      ],
      "metadata": {
        "id": "8eT97NZ8b3VA"
      }
    },
    {
      "cell_type": "code",
      "source": [
        "# Mechanizm Laplace'a - mówi on o tym, że do każdego elementu przestrzeni wyników dodajemy\n",
        "# niezależną (od pozostałych) zmienną losową z rozkładu Laplace'a z parametrem skali równym 2/(epsilon * wielkość zbioru)\n",
        "\n",
        "space_lm = deepcopy(space)\n",
        "space2_lm = deepcopy(space2)\n",
        "L1 = laplace.rvs(loc=0, scale=2/(epsilon*len1), size=2**17)\n",
        "L2 = laplace.rvs(loc=0, scale=2/(epsilon*len2), size=2**17)\n",
        "\n",
        "counter = 0\n",
        "for i in range(17, 91):\n",
        "    for j in range(1, 17):\n",
        "        for k in range(1, 100):\n",
        "            space_lm[i - 17][j - 1][k - 1] += L1[counter]\n",
        "            space2_lm[i - 17][j - 1][k - 1] += L2[counter]\n",
        "            counter += 1"
      ],
      "metadata": {
        "id": "ucFCeBgeR_0N"
      },
      "execution_count": 56,
      "outputs": []
    },
    {
      "cell_type": "code",
      "source": [
        "# Sprawdzenie miary całej Omegi w obu przypadkach - nie chcemy aby była ujemna\n",
        "total_val = 0\n",
        "for i in range(17, 91):\n",
        "    for j in range(1, 17):\n",
        "        for k in range(1, 100):\n",
        "            total_val += space_lm[i - 17][j - 1][k - 1]\n",
        "print(total_val)\n",
        "\n",
        "total_val2 = 0\n",
        "for i in range(17, 91):\n",
        "    for j in range(1, 17):\n",
        "        for k in range(1, 100):\n",
        "            total_val2 += space2_lm[i - 17][j - 1][k - 1]\n",
        "print(total_val2)\n",
        "\n",
        "assert total_val >= 0\n",
        "assert total_val2 >= 0"
      ],
      "metadata": {
        "colab": {
          "base_uri": "https://localhost:8080/"
        },
        "id": "12ghnsvhSBAt",
        "outputId": "0b3d29c0-e5ab-4c58-c9d9-e38df678fc31"
      },
      "execution_count": 57,
      "outputs": [
        {
          "output_type": "stream",
          "name": "stdout",
          "text": [
            "2.4537281534107285\n",
            "0.5097527181616245\n"
          ]
        }
      ]
    },
    {
      "cell_type": "code",
      "source": [
        "# Zamiana miary znakowej na nieznakową - podejście heurystyczne\n",
        "\n",
        "directions = [[1, 0, 0], [-1, 0, 0], [0, 1, 0], [0, -1, 0], [0, 0, 1], [0, 0, -1]]\n",
        "\n",
        "for i in range(17, 91):\n",
        "    for j in range(1, 17):\n",
        "        for k in range(1, 100):\n",
        "            val = space_lm[i - 17][j - 1][k - 1]\n",
        "            if val < 0:\n",
        "                val *= -1\n",
        "                space_lm[i - 17][j - 1][k - 1] = 0\n",
        "                counter = 1\n",
        "                while val > 0.01 and counter != 0:\n",
        "                    counter = 0\n",
        "                    val_counter = 0\n",
        "                    for [di, dj, dk] in directions:\n",
        "                        if 0 <= i - 17 + di < 91 - 17 and 0 <= j - 1 + dj < 17 - 1 and 0 <= k - 1 + dk < 100 - 1:\n",
        "                            if space_lm[i - 17 + di][j - 1 + dj][k - 1 + dk] > val/100:\n",
        "                                counter += 1\n",
        "                                val_counter += val/100\n",
        "                                space_lm[i - 17 + di][j - 1 + dj][k - 1 + dk] -= val/100\n",
        "                    val -= val_counter\n",
        "\n",
        "for i in range(17, 91):\n",
        "    for j in range(1, 17):\n",
        "        for k in range(1, 100):\n",
        "            val = space2_lm[i - 17][j - 1][k - 1]\n",
        "            if val < 0:\n",
        "                val *= -1\n",
        "                space2_lm[i - 17][j - 1][k - 1] = 0\n",
        "                counter = 1\n",
        "                while val > 0.01 and counter != 0:\n",
        "                    counter = 0\n",
        "                    val_counter = 0\n",
        "                    for [di, dj, dk] in directions:\n",
        "                        if 0 <= i - 17 + di < 91 - 17 and 0 <= j - 1 + dj < 17 - 1 and 0 <= k - 1 + dk < 100 - 1:\n",
        "                            if space2_lm[i - 17 + di][j - 1 + dj][k - 1 + dk] > val/100:\n",
        "                                counter += 1\n",
        "                                val_counter += val/100\n",
        "                                space2_lm[i - 17 + di][j - 1 + dj][k - 1 + dk] -= val/100\n",
        "                    val -= val_counter\n",
        "\n",
        "\n",
        "for i in range(17, 91):\n",
        "    for j in range(1, 17):\n",
        "        for k in range(1, 100):\n",
        "            assert space_lm[i - 17][j - 1][k - 1] >= 0\n",
        "            assert space2_lm[i - 17][j - 1][k - 1] >= 0"
      ],
      "metadata": {
        "id": "zl7HRZWTSEm9"
      },
      "execution_count": 58,
      "outputs": []
    },
    {
      "cell_type": "code",
      "source": [
        "# Ponowne sprawdzenie miary Omegi - zweryfikowanie błedu podejścia heurystycznego\n",
        "total_val = 0\n",
        "for i in range(17, 91):\n",
        "    for j in range(1, 17):\n",
        "        for k in range(1, 100):\n",
        "            total_val += space_lm[i - 17][j - 1][k - 1]\n",
        "print(total_val)\n",
        "\n",
        "total_val2 = 0\n",
        "for i in range(17, 91):\n",
        "    for j in range(1, 17):\n",
        "        for k in range(1, 100):\n",
        "            total_val2 += space2_lm[i - 17][j - 1][k - 1]\n",
        "print(total_val2)"
      ],
      "metadata": {
        "colab": {
          "base_uri": "https://localhost:8080/"
        },
        "id": "h-RcBN39SG7D",
        "outputId": "cec4312c-a936-4e9a-98b0-2dd120027900"
      },
      "execution_count": 59,
      "outputs": [
        {
          "output_type": "stream",
          "name": "stdout",
          "text": [
            "133.27211772455223\n",
            "42.52319334871674\n"
          ]
        }
      ]
    },
    {
      "cell_type": "code",
      "source": [
        "# zamiana miary nieznakowej na miarę empiryczną (kodującą m elementów)\n",
        "total_space_lm = 0\n",
        "total_space2_lm = 0\n",
        "\n",
        "for i in range(17, 91):\n",
        "    for j in range(1, 17):\n",
        "        for k in range(1, 100):\n",
        "            space_lm[i - 17][j - 1][k - 1] = math.floor(m1 * space_lm[i - 17][j - 1][k - 1] / total_val)\n",
        "            total_space_lm += space_lm[i - 17][j - 1][k - 1]\n",
        "            space2_lm[i - 17][j - 1][k - 1] = math.floor(m2 * space2_lm[i - 17][j - 1][k - 1] / total_val2)\n",
        "            total_space2_lm += space2_lm[i - 17][j - 1][k - 1]\n",
        "\n",
        "assert total_space_lm <= m1\n",
        "assert total_space2_lm <= m2\n",
        "\n",
        "while total_space_lm < m1:\n",
        "    di = random.randint(17, 90)\n",
        "    dj = random.randint(1, 16)\n",
        "    dk = random.randint(1, 99)\n",
        "    space_lm[di - 17][dj - 1][dk - 1] += 1\n",
        "    total_space_lm += 1\n",
        "\n",
        "while total_space2_lm < m2:\n",
        "    di = random.randint(17, 90)\n",
        "    dj = random.randint(1, 16)\n",
        "    dk = random.randint(1, 99)\n",
        "    space2_lm[di - 17][dj - 1][dk - 1] += 1\n",
        "    total_space2_lm += 1"
      ],
      "metadata": {
        "id": "1MoThivBSICt"
      },
      "execution_count": 60,
      "outputs": []
    },
    {
      "cell_type": "code",
      "source": [
        "# Powrót z miary do bazy danych\n",
        "rows = []\n",
        "\n",
        "for i in range(17, 91):\n",
        "    for j in range(1, 17):\n",
        "        for k in range(1, 100):\n",
        "            rows.extend([[i, j, k, \">50K\"]] * space_lm[i - 17][j - 1][k - 1])\n",
        "            rows.extend([[i, j, k, \"<=50K\"]] * space2_lm[i - 17][j - 1][k - 1])\n",
        "\n",
        "train_df_lm = pd.DataFrame(rows, columns=[\"age\", \"education-num\", \"hours-per-week\", \"income\"])\n",
        "\n",
        "print(train_df_lm.head())\n",
        "assert len(train_df_lm) == m1 + m2"
      ],
      "metadata": {
        "colab": {
          "base_uri": "https://localhost:8080/"
        },
        "id": "todvlTWtSLdV",
        "outputId": "9972af8e-0175-49ce-c50b-c388ee974ac6"
      },
      "execution_count": 61,
      "outputs": [
        {
          "output_type": "stream",
          "name": "stdout",
          "text": [
            "   age  education-num  hours-per-week income\n",
            "0   17              1               9  <=50K\n",
            "1   17              1               9  <=50K\n",
            "2   17              1              12  <=50K\n",
            "3   17              1              16  <=50K\n",
            "4   17              1              18   >50K\n"
          ]
        }
      ]
    },
    {
      "cell_type": "markdown",
      "source": [
        "## Algorytm wykorzystujący SSL\n"
      ],
      "metadata": {
        "id": "C4HvPNAbbveY"
      }
    },
    {
      "cell_type": "code",
      "source": [
        "# Funkcja generująca 2 ^ levels zmiennych losowych reprezentujących kolejne kroki SSL\n",
        "def superregular_walk(levels, show_plot=False):\n",
        "\n",
        "    # Funkcja czapkowa z \"czapką\" na przedziale (left, right).\n",
        "    def hat_fun(x, left, right):\n",
        "        mid = (left + right) / 2\n",
        "        return max(0, 1 - abs(x - mid)/(mid - left))\n",
        "\n",
        "    # Generowanie wszystkich \"czapkowych\" przedziałów dla levels pierwszych poziomów.\n",
        "    current = 0\n",
        "    ints = [[0, 2]]\n",
        "    while current < levels:\n",
        "        left = 0\n",
        "        step = 1 / 2 ** current\n",
        "        right = step\n",
        "        while left < 1:\n",
        "            ints.append([left, right])\n",
        "            left += step\n",
        "            right += step\n",
        "        current += 1\n",
        "\n",
        "    # Generowanie zmiennych losowych i obliczenie kolejnych wartości SRW\n",
        "    X = np.linspace(0, 1, 2 ** levels + 1)\n",
        "    L = np.random.laplace(0, 2 * levels + 1, 2 ** levels)\n",
        "    Y = [0]\n",
        "    for i in range(len(X) - 1):\n",
        "        val = 0\n",
        "        for j in range(levels + 1):\n",
        "            if j == 0: k = 0\n",
        "            else: k = 2 ** (j - 1) + i // 2 ** (levels + 1 - j)\n",
        "            val += hat_fun(X[i+1], ints[k][0], ints[k][1]) * L[k]\n",
        "        Y.append(float(val))\n",
        "\n",
        "    # Opcjonalne pokazanie wykresu\n",
        "    if show_plot:\n",
        "        plt.plot(X, Y)\n",
        "        plt.title(f\"Superskoncentrowany spacer losowy o {levels} poziomach\")\n",
        "        plt.show()\n",
        "\n",
        "    L = []\n",
        "    for i in range(len(Y) - 1):\n",
        "        L.append(Y[i + 1] - Y[i])\n",
        "    return L\n",
        "\n",
        "\n",
        "_ = superregular_walk(10, True)"
      ],
      "metadata": {
        "colab": {
          "base_uri": "https://localhost:8080/",
          "height": 452
        },
        "id": "VzFT1f6xSONc",
        "outputId": "d239cc75-0aec-4fb4-e9c0-6c6d37660ddf"
      },
      "execution_count": 62,
      "outputs": [
        {
          "output_type": "display_data",
          "data": {
            "text/plain": [
              "<Figure size 640x480 with 1 Axes>"
            ],
            "image/png": "[encoded data removed]"
          },
          "metadata": {}
        }
      ]
    },
    {
      "cell_type": "code",
      "source": [
        "# Zaburzenie przestrzeni wyników za pomocą SSL\n",
        "\n",
        "space_srw = deepcopy(space)\n",
        "space2_srw = deepcopy(space2)\n",
        "levels = 17 # 2^17 - tyle musimy wygenerować zmiennych, aby wystarczyło na całą przestrzeń\n",
        "L1 = superregular_walk(levels, False)\n",
        "L2 = superregular_walk(levels, False)\n",
        "counter = 0\n",
        "\n",
        "for j in range(1, 17): # zamiana kolejności iteracji - intuicja w pracy\n",
        "    if j % 2 == 0:\n",
        "        for i in range(17, 91):\n",
        "            if i % 2 == 0:\n",
        "                for k in range(1, 100):\n",
        "                    space_srw[i - 17][j - 1][k - 1] += L1[counter] * 2/(epsilon * len1)\n",
        "                    space2_srw[i - 17][j - 1][k - 1] += L2[counter] * 2/(epsilon * len2)\n",
        "                    counter += 1\n",
        "            else:\n",
        "                for k in range(99, 0, -1):\n",
        "                    space_srw[i - 17][j - 1][k - 1] += L1[counter] * 2/(epsilon * len1)\n",
        "                    space2_srw[i - 17][j - 1][k - 1] += L2[counter] * 2/(epsilon * len2)\n",
        "                    counter += 1\n",
        "    else:\n",
        "        for i in range(90, 16, -1):\n",
        "            if i % 2 == 0:\n",
        "                for k in range(1, 100):\n",
        "                    space_srw[i - 17][j - 1][k - 1] += L1[counter] * 2/(epsilon * len1)\n",
        "                    space2_srw[i - 17][j - 1][k - 1] += L2[counter] * 2/(epsilon * len2)\n",
        "                    counter += 1\n",
        "            else:\n",
        "                for k in range(99, 0, -1):\n",
        "                    space_srw[i - 17][j - 1][k - 1] += L1[counter] * 2/(epsilon * len1)\n",
        "                    space2_srw[i - 17][j - 1][k - 1] += L2[counter] * 2/(epsilon * len2)\n",
        "                    counter += 1"
      ],
      "metadata": {
        "id": "YuBxzHoCSPvH"
      },
      "execution_count": 85,
      "outputs": []
    },
    {
      "cell_type": "code",
      "source": [
        "# Sprawdzenie miary całej Omegi w obu przypadkach - nie chcemy aby była ujemna\n",
        "total_val = 0\n",
        "for i in range(17, 91):\n",
        "    for j in range(1, 17):\n",
        "        for k in range(1, 100):\n",
        "            total_val += space_srw[i - 17][j - 1][k - 1]\n",
        "print(total_val)\n",
        "\n",
        "total_val2 = 0\n",
        "for i in range(17, 91):\n",
        "    for j in range(1, 17):\n",
        "        for k in range(1, 100):\n",
        "            total_val2 += space2_srw[i - 17][j - 1][k - 1]\n",
        "print(total_val2)\n",
        "\n",
        "assert total_val >= 0\n",
        "assert total_val2 >= 0"
      ],
      "metadata": {
        "colab": {
          "base_uri": "https://localhost:8080/"
        },
        "id": "SeLtmIw6SRGn",
        "outputId": "55610462-e576-4e6c-8d40-7efd5152262e"
      },
      "execution_count": 86,
      "outputs": [
        {
          "output_type": "stream",
          "name": "stdout",
          "text": [
            "1.021900541658923\n",
            "0.9844502118640461\n"
          ]
        }
      ]
    },
    {
      "cell_type": "code",
      "source": [
        "# Zamiana miary znakowej na nieznakową - podejście heurystyczne\n",
        "\n",
        "directions = [[1, 0, 0], [-1, 0, 0], [0, 1, 0], [0, -1, 0], [0, 0, 1], [0, 0, -1]]\n",
        "\n",
        "for i in range(17, 91):\n",
        "    for j in range(1, 17):\n",
        "        for k in range(1, 100):\n",
        "            val = space_srw[i - 17][j - 1][k - 1]\n",
        "            if val < 0:\n",
        "                val *= -1\n",
        "                space_srw[i - 17][j - 1][k - 1] = 0\n",
        "                counter = 1\n",
        "                while val > 0.01 and counter != 0:\n",
        "                    counter = 0\n",
        "                    val_counter = 0\n",
        "                    for [di, dj, dk] in directions:\n",
        "                        if 0 <= i - 17 + di < 91 - 17 and 0 <= j - 1 + dj < 17 - 1 and 0 <= k - 1 + dk < 100 - 1:\n",
        "                            if space_srw[i - 17 + di][j - 1 + dj][k - 1 + dk] > val/100:\n",
        "                                counter += 1\n",
        "                                val_counter += val/100\n",
        "                                space_srw[i - 17 + di][j - 1 + dj][k - 1 + dk] -= val/100\n",
        "                    val -= val_counter\n",
        "\n",
        "for i in range(17, 91):\n",
        "    for j in range(1, 17):\n",
        "        for k in range(1, 100):\n",
        "            val = space2_srw[i - 17][j - 1][k - 1]\n",
        "            if val < 0:\n",
        "                val *= -1\n",
        "                space2_srw[i - 17][j - 1][k - 1] = 0\n",
        "                counter = 1\n",
        "                while val > 0.01 and counter != 0:\n",
        "                    counter = 0\n",
        "                    val_counter = 0\n",
        "                    for [di, dj, dk] in directions:\n",
        "                        if 0 <= i - 17 + di < 91 - 17 and 0 <= j - 1 + dj < 17 - 1 and 0 <= k - 1 + dk < 100 - 1:\n",
        "                            if space2_srw[i - 17 + di][j - 1 + dj][k - 1 + dk] > val/100:\n",
        "                                counter += 1\n",
        "                                val_counter += val/100\n",
        "                                space2_srw[i - 17 + di][j - 1 + dj][k - 1 + dk] -= val/100\n",
        "                    val -= val_counter\n",
        "\n",
        "\n",
        "for i in range(17, 91):\n",
        "    for j in range(1, 17):\n",
        "        for k in range(1, 100):\n",
        "            assert space_srw[i - 17][j - 1][k - 1] >= 0\n",
        "            assert space2_srw[i - 17][j - 1][k - 1] >= 0"
      ],
      "metadata": {
        "id": "mrZoZ4KgSSd9"
      },
      "execution_count": 87,
      "outputs": []
    },
    {
      "cell_type": "code",
      "source": [
        "# Ponowne sprawdzenie miary Omegi - zweryfikowanie błedu podejścia heurystycznego\n",
        "total_val = 0\n",
        "for i in range(17, 91):\n",
        "    for j in range(1, 17):\n",
        "        for k in range(1, 100):\n",
        "            total_val += space_srw[i - 17][j - 1][k - 1]\n",
        "print(total_val)\n",
        "\n",
        "total_val2 = 0\n",
        "for i in range(17, 91):\n",
        "    for j in range(1, 17):\n",
        "        for k in range(1, 100):\n",
        "            total_val2 += space2_srw[i - 17][j - 1][k - 1]\n",
        "print(total_val2)"
      ],
      "metadata": {
        "colab": {
          "base_uri": "https://localhost:8080/"
        },
        "id": "3FowjIhZST1G",
        "outputId": "4f4f9ae4-1c09-4e31-abb6-05c5261fb836"
      },
      "execution_count": 88,
      "outputs": [
        {
          "output_type": "stream",
          "name": "stdout",
          "text": [
            "1471.6234555206424\n",
            "676.5706292081468\n"
          ]
        }
      ]
    },
    {
      "cell_type": "code",
      "source": [
        "# zamiana miary nieznakowej na miarę empiryczną (kodującą m elementów)\n",
        "total_space_srw = 0\n",
        "total_space2_srw = 0\n",
        "\n",
        "for i in range(17, 91):\n",
        "    for j in range(1, 17):\n",
        "        for k in range(1, 100):\n",
        "            space_srw[i - 17][j - 1][k - 1] = math.floor(m1 * space_srw[i - 17][j - 1][k - 1] / total_val)\n",
        "            total_space_srw += space_srw[i - 17][j - 1][k - 1]\n",
        "            space2_srw[i - 17][j - 1][k - 1] = math.floor(m2 * space2_srw[i - 17][j - 1][k - 1] / total_val2)\n",
        "            total_space2_srw += space2_srw[i - 17][j - 1][k - 1]\n",
        "\n",
        "assert total_space_srw <= m1\n",
        "assert total_space2_srw <= m2\n",
        "\n",
        "while total_space_srw < m1:\n",
        "    di = random.randint(17, 90)\n",
        "    dj = random.randint(1, 16)\n",
        "    dk = random.randint(1, 99)\n",
        "    space_srw[di - 17][dj - 1][dk - 1] += 1\n",
        "    total_space_srw += 1\n",
        "\n",
        "while total_space2_srw < m2:\n",
        "    di = random.randint(17, 90)\n",
        "    dj = random.randint(1, 16)\n",
        "    dk = random.randint(1, 99)\n",
        "    space2_srw[di - 17][dj - 1][dk - 1] += 1\n",
        "    total_space2_srw += 1"
      ],
      "metadata": {
        "id": "KWT5PA9gSVAr"
      },
      "execution_count": 89,
      "outputs": []
    },
    {
      "cell_type": "code",
      "source": [
        "# Powrót z miary do bazy danych\n",
        "rows = []\n",
        "\n",
        "for i in range(17, 91):\n",
        "    for j in range(1, 17):\n",
        "        for k in range(1, 100):\n",
        "            rows.extend([[i, j, k, \">50K\"]] * space_srw[i - 17][j - 1][k - 1])\n",
        "            rows.extend([[i, j, k, \"<=50K\"]] * space2_srw[i - 17][j - 1][k - 1])\n",
        "\n",
        "train_df_srw = pd.DataFrame(rows, columns=[\"age\", \"education-num\", \"hours-per-week\", \"income\"])\n",
        "\n",
        "print(train_df_srw.head())\n",
        "\n",
        "assert len(train_df_srw) == m1 + m2"
      ],
      "metadata": {
        "colab": {
          "base_uri": "https://localhost:8080/"
        },
        "id": "Y3ihh9O3SWbg",
        "outputId": "e190dccd-9acc-4cc6-8702-916fdd2a49b4"
      },
      "execution_count": 90,
      "outputs": [
        {
          "output_type": "stream",
          "name": "stdout",
          "text": [
            "   age  education-num  hours-per-week income\n",
            "0   17              1               7  <=50K\n",
            "1   17              1              15   >50K\n",
            "2   17              1              19   >50K\n",
            "3   17              1              20   >50K\n",
            "4   17              1              21  <=50K\n"
          ]
        }
      ]
    },
    {
      "cell_type": "markdown",
      "source": [
        "## Test jakości otzrymanych baz danych"
      ],
      "metadata": {
        "id": "P0RxEfObcwsQ"
      }
    },
    {
      "cell_type": "code",
      "source": [
        "# Zmodyfikowany klasyfikator KNN przystosowany do niezbalansowanego datasetu\n",
        "class PriorWeightedKNN:\n",
        "    def __init__(self, n_neighbors=5):\n",
        "        self.k = n_neighbors\n",
        "        self.X_train = None\n",
        "        self.y_train = None\n",
        "        self.class_weights = None\n",
        "\n",
        "    def fit(self, X: pd.DataFrame, y: pd.Series):\n",
        "        self.X_train = X.values\n",
        "        self.y_train = y.values\n",
        "\n",
        "        class_counts = Counter(self.y_train)\n",
        "        total = sum(class_counts.values())\n",
        "        self.class_weights = {\n",
        "            cls: total / (len(class_counts) * count)\n",
        "            for cls, count in class_counts.items()\n",
        "        }\n",
        "\n",
        "    def predict(self, X: pd.DataFrame):\n",
        "        X_test = X.values\n",
        "        distances = euclidean_distances(X_test, self.X_train)\n",
        "        preds = []\n",
        "\n",
        "        for d in distances:\n",
        "            idx = np.argsort(d)[:self.k]\n",
        "            neighbor_labels = self.y_train[idx]\n",
        "            neighbor_dists = d[idx]\n",
        "            neighbor_weights = 1 / (neighbor_dists + 1e-8)\n",
        "\n",
        "            class_vote_weights = {}\n",
        "            for label, dist_weight in zip(neighbor_labels, neighbor_weights):\n",
        "                weight = dist_weight * self.class_weights.get(label, 1.0)\n",
        "                class_vote_weights[label] = class_vote_weights.get(label, 0.0) + weight\n",
        "\n",
        "            preds.append(max(class_vote_weights, key=class_vote_weights.get))\n",
        "\n",
        "        return np.array(preds)"
      ],
      "metadata": {
        "id": "uUtEGV45SZhP"
      },
      "execution_count": 70,
      "outputs": []
    },
    {
      "cell_type": "code",
      "source": [
        "# Test na oryginalnym (nie zaburzonym) zbiorze danych\n",
        "\n",
        "X_train = train_df.drop(columns='income')\n",
        "y_train = train_df['income']\n",
        "\n",
        "X_test = test_df.drop(columns='income')\n",
        "y_test = test_df['income']\n",
        "\n",
        "knn = PriorWeightedKNN(n_neighbors=5)\n",
        "knn.fit(X_train, y_train)\n",
        "y_pred = knn.predict(X_test)\n",
        "\n",
        "print(classification_report(y_test, y_pred))"
      ],
      "metadata": {
        "colab": {
          "base_uri": "https://localhost:8080/"
        },
        "id": "G_NRmQf8Sa1R",
        "outputId": "95eac631-6993-456e-c86d-ff06f056da18"
      },
      "execution_count": 72,
      "outputs": [
        {
          "output_type": "stream",
          "name": "stdout",
          "text": [
            "              precision    recall  f1-score   support\n",
            "\n",
            "       <=50K       0.86      0.74      0.80      9289\n",
            "        >50K       0.43      0.63      0.51      2922\n",
            "\n",
            "    accuracy                           0.72     12211\n",
            "   macro avg       0.65      0.69      0.66     12211\n",
            "weighted avg       0.76      0.72      0.73     12211\n",
            "\n"
          ]
        }
      ]
    },
    {
      "cell_type": "code",
      "source": [
        "# Test na zbiorze danych po mechanizmie Laplace'a\n",
        "\n",
        "X_train = train_df_lm.drop(columns='income')\n",
        "y_train = train_df_lm['income']\n",
        "\n",
        "X_test = test_df.drop(columns='income')\n",
        "y_test = test_df['income']\n",
        "\n",
        "knn = PriorWeightedKNN(n_neighbors=5)\n",
        "knn.fit(X_train, y_train)\n",
        "y_pred = knn.predict(X_test)\n",
        "\n",
        "print(classification_report(y_test, y_pred))"
      ],
      "metadata": {
        "colab": {
          "base_uri": "https://localhost:8080/"
        },
        "id": "WGXoQ59YSdXE",
        "outputId": "e3a27187-f52f-458f-d3e1-a14371e28b07"
      },
      "execution_count": 73,
      "outputs": [
        {
          "output_type": "stream",
          "name": "stdout",
          "text": [
            "              precision    recall  f1-score   support\n",
            "\n",
            "       <=50K       0.77      0.74      0.76      9289\n",
            "        >50K       0.27      0.31      0.29      2922\n",
            "\n",
            "    accuracy                           0.64     12211\n",
            "   macro avg       0.52      0.53      0.52     12211\n",
            "weighted avg       0.65      0.64      0.64     12211\n",
            "\n"
          ]
        }
      ]
    },
    {
      "cell_type": "code",
      "source": [
        "# Test na zbiorze danych po SRW\n",
        "\n",
        "X_train = train_df_srw.drop(columns='income')\n",
        "y_train = train_df_srw['income']\n",
        "\n",
        "X_test = test_df.drop(columns='income')\n",
        "y_test = test_df['income']\n",
        "\n",
        "knn = PriorWeightedKNN(n_neighbors=5)\n",
        "knn.fit(X_train, y_train)\n",
        "y_pred = knn.predict(X_test)\n",
        "\n",
        "print(classification_report(y_test, y_pred))"
      ],
      "metadata": {
        "colab": {
          "base_uri": "https://localhost:8080/"
        },
        "id": "8ocXgPqlSetp",
        "outputId": "4a44d0c3-86b6-4272-9ec6-63f84f9ea586"
      },
      "execution_count": 91,
      "outputs": [
        {
          "output_type": "stream",
          "name": "stdout",
          "text": [
            "              precision    recall  f1-score   support\n",
            "\n",
            "       <=50K       0.77      0.64      0.70      9289\n",
            "        >50K       0.25      0.38      0.30      2922\n",
            "\n",
            "    accuracy                           0.58     12211\n",
            "   macro avg       0.51      0.51      0.50     12211\n",
            "weighted avg       0.64      0.58      0.60     12211\n",
            "\n"
          ]
        }
      ]
    }
  ]
}